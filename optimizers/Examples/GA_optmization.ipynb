{
 "cells": [
  {
   "cell_type": "code",
   "execution_count": 1,
   "metadata": {},
   "outputs": [],
   "source": [
    "from optimizers.objective_functions.objective_functions import *\n",
    "from optimizers.genetic_algorithms.chromossomes import *\n",
    "from optimizers.genetic_algorithms.offspring_control import *\n",
    "from optimizers.genetic_algorithms.sorter import *\n",
    "import numpy as np\n",
    "import pandas as pd"
   ]
  },
  {
   "cell_type": "code",
   "execution_count": 2,
   "metadata": {},
   "outputs": [
    {
     "data": {
      "text/plain": [
       "      fun: 9.714371423329325e-13\n",
       " hess_inv: array([[0.75000002, 0.24999998],\n",
       "       [0.24999998, 0.75000002]])\n",
       "      jac: array([-1.37896909e-06,  1.40877141e-06])\n",
       "  message: 'Optimization terminated successfully.'\n",
       "     nfev: 12\n",
       "      nit: 2\n",
       "     njev: 4\n",
       "   status: 0\n",
       "  success: True\n",
       "        x: array([-6.96935127e-07,  6.96935126e-07])"
      ]
     },
     "execution_count": 2,
     "metadata": {},
     "output_type": "execute_result"
    }
   ],
   "source": [
    "def func_test(x):\n",
    "    return np.fromiter((np.power(xi[0],2)+np.power(xi[1],2) for xi in x), float)\n",
    "\n",
    "def func(x):\n",
    "    return x[0]**2+x[1]**2\n",
    "\n",
    "from scipy.optimize import minimize\n",
    "\n",
    "minimize(func,(10,-10))"
   ]
  },
  {
   "attachments": {},
   "cell_type": "markdown",
   "metadata": {},
   "source": [
    "### Orchestrador\n",
    "\n",
    "Need to define:\n",
    "- generations;\n",
    "- runs_without_improvement_limit\n",
    "- population_size\n",
    "- mutation_rate\n",
    "- crossover_probability\n",
    "- construct_dict: dictionary with options of how the problem is set-up in a binary space"
   ]
  },
  {
   "cell_type": "code",
   "execution_count": 3,
   "metadata": {},
   "outputs": [
    {
     "name": "stdout",
     "output_type": "stream",
     "text": [
      "melhor marca :-5.0 com parâmetros: {'x': -1, 'y': 2}\n",
      "melhor marca :-0.0 com parâmetros: {'x': 0, 'y': 0}\n",
      "melhor marca :-0.0 com parâmetros: {'x': 0, 'y': 0}\n",
      "melhor marca :-0.0 com parâmetros: {'x': 0, 'y': 0}\n",
      "melhor marca :-0.0 com parâmetros: {'x': 0, 'y': 0}\n",
      "melhor marca :-0.0 com parâmetros: {'x': 0, 'y': 0}\n",
      "melhor marca :-0.0 com parâmetros: {'x': 0, 'y': 0}\n",
      "melhor marca :-0.0 com parâmetros: {'x': 0, 'y': 0}\n",
      "ended by max runs without improvement reached\n"
     ]
    }
   ],
   "source": [
    "historical_data=pd.DataFrame()\n",
    "obj_func=objective_function(func=func_test,maximize=False)\n",
    "\n",
    "generations=20\n",
    "runs_without_improvement_limit=5\n",
    "population_size=20\n",
    "mutation_rate=0.5\n",
    "crossover_probability=0.1\n",
    "\n",
    "construct_dict={\"x\":{\"sequence_len\":4,\"max_bound\":10,\"lower_bound\":-10,\"type\":\"int\"},\n",
    "                \"y\":{\"sequence_len\":4,\"max_bound\":10,\"lower_bound\":-10,\"type\":\"int\"}}\n",
    "\n",
    "best=-9999\n",
    "runs_without_improvement=0\n",
    "for generation in range(generations):\n",
    "    if generation==0:\n",
    "        new_offspring=gerenerate_population(population_size=population_size,\n",
    "                                            mutation_rate=mutation_rate,\n",
    "                                            population_description=construct_dict)\n",
    "    else:\n",
    "        new_offspring=uniform_crossover(fathers,\n",
    "                                        construct_dict,\n",
    "                                        mutation_rate=mutation_rate,\n",
    "                                        crossover_probability=crossover_probability,\n",
    "                                        population_size=population_size)\n",
    "\n",
    "    inputs=[[x for x in individual.subsequences_decimal.values()] for individual in new_offspring]    \n",
    "    fitness=obj_func.predict(X=inputs)\n",
    "    df=population_sorter(new_offspring,fitness)\n",
    "    historical_data=pd.concat([historical_data,df.assign(generation_number=generation)])\n",
    "    fathers=rolette_wheel_selector(df,choices=4)\n",
    "    curr_best=fitness.max()\n",
    "    if best<curr_best:\n",
    "        best=curr_best\n",
    "    else:\n",
    "        runs_without_improvement+=1\n",
    "    print(\"melhor marca :{} com parâmetros: {}\".format(best,df[\"individuals\"].iloc[0].subsequences_decimal))\n",
    "\n",
    "    if runs_without_improvement>runs_without_improvement_limit:\n",
    "        print(\"ended by max runs without improvement reached\")\n",
    "        break\n",
    "\n",
    "historical_data[\"params\"]=[i.subsequences_decimal for i in historical_data[\"individuals\"]]"
   ]
  },
  {
   "cell_type": "code",
   "execution_count": null,
   "metadata": {},
   "outputs": [],
   "source": [
    "historical_data"
   ]
  },
  {
   "cell_type": "code",
   "execution_count": null,
   "metadata": {},
   "outputs": [],
   "source": [
    "construct_dict={\"rake_angle\":{\"sequence_len\":4,\"max_bound\":10,\"lower_bound\":-10,\"type\":\"int\"},\n",
    "                \"vc\":{\"sequence_len\":10,\"max_bound\":500,\"lower_bound\":30,\"type\":\"int\"},\n",
    "                \"depth\":{\"sequence_len\":4,\"max_bound\":2,\"lower_bound\":0.1,\"type\":\"float\"}}"
   ]
  }
 ],
 "metadata": {
  "kernelspec": {
   "display_name": "Testes",
   "language": "python",
   "name": "python3"
  },
  "language_info": {
   "codemirror_mode": {
    "name": "ipython",
    "version": 3
   },
   "file_extension": ".py",
   "mimetype": "text/x-python",
   "name": "python",
   "nbconvert_exporter": "python",
   "pygments_lexer": "ipython3",
   "version": "3.9.4"
  },
  "orig_nbformat": 4,
  "vscode": {
   "interpreter": {
    "hash": "21ed1f6a5e627028ce17170121d4777e315aa6701cd788c4a95d68a87f3632ba"
   }
  }
 },
 "nbformat": 4,
 "nbformat_minor": 2
}
